{
 "cells": [
  {
   "cell_type": "markdown",
   "id": "38e188a5",
   "metadata": {},
   "source": [
    "# Exercise 00\n",
    "Write a piece of code that allocates a list of 20 integers and initializes each element by its index multiplied by 5. Print the result."
   ]
  },
  {
   "cell_type": "code",
   "execution_count": 5,
   "id": "01aa4f35",
   "metadata": {},
   "outputs": [
    {
     "name": "stdout",
     "output_type": "stream",
     "text": [
      "[0, 5, 10, 15, 20, 25, 30, 35, 40, 45, 50, 55, 60, 65, 70, 75, 80, 85, 90, 95]\n"
     ]
    }
   ],
   "source": [
    "List = []\n",
    "for i in range(0,20):\n",
    "    List.append(i*5)\n",
    "print(List)"
   ]
  },
  {
   "cell_type": "code",
   "execution_count": 49,
   "id": "4488a794",
   "metadata": {},
   "outputs": [
    {
     "name": "stdout",
     "output_type": "stream",
     "text": [
      "Requirement already satisfied: pygame in c:\\users\\ellen\\anaconda3\\lib\\site-packages (2.5.2)\n"
     ]
    }
   ],
   "source": [
    "!pip install pygame"
   ]
  },
  {
   "cell_type": "markdown",
   "id": "529d91ae",
   "metadata": {},
   "source": [
    "# Exercise 01\n",
    "Define a function that takes an integer as input, prints  all integers that it is divisable by, and returns the largest one."
   ]
  },
  {
   "cell_type": "code",
   "execution_count": 21,
   "id": "30e79132",
   "metadata": {},
   "outputs": [
    {
     "name": "stdout",
     "output_type": "stream",
     "text": [
      "enter integar6\n",
      "1\n",
      "2\n",
      "3\n",
      "最大公约数是: 6\n"
     ]
    }
   ],
   "source": [
    "def number(a):\n",
    "    a = int(input(\"enter integar\")) \n",
    "    b = 1\n",
    "    while b<a:\n",
    "        if a%b ==0:\n",
    "            print(b)\n",
    "        b = b+1\n",
    "    return b\n",
    "result = number(0)\n",
    "print(\"最大公约数是:\", result)\n",
    "    \n",
    "    "
   ]
  },
  {
   "cell_type": "markdown",
   "id": "cfbe30d4",
   "metadata": {},
   "source": [
    "# Exercise 02\n",
    "- create a dictionary with 6 keys and values of your choice\n",
    "- write a function that takes a dictionary and a value as input and returns whether the value occurs as a key in the dictionary\n",
    "- write a function that takes a dictionary as input, and returns the dictionary but the keys are swapped with their values (resolve the issue if a value occurs twice!)"
   ]
  },
  {
   "cell_type": "code",
   "execution_count": 7,
   "id": "2123f1c6",
   "metadata": {},
   "outputs": [
    {
     "name": "stdout",
     "output_type": "stream",
     "text": [
      "Enter key:2\n",
      "Enter value:3\n",
      "Does not occur\n"
     ]
    }
   ],
   "source": [
    "def yu(key, value):\n",
    "    dic = {\"name\": \"kelly\", \"birthday\": \"1107\", \"hobby\": \"music\", \"works\": \"dignity\", \"logic skills\": \"good\", \"python skills\": \"bad\"}\n",
    "\n",
    "check_key = input(\"Enter key:\")\n",
    "check_value = input(\"Enter value:\")\n",
    "\n",
    "if yu(check_key, check_value):\n",
    "    print(\"Occurs\")\n",
    "else:\n",
    "    print(\"Does not occur\")\n"
   ]
  },
  {
   "cell_type": "markdown",
   "id": "b4b4e426",
   "metadata": {},
   "source": [
    "# Exercise 03\n",
    "Define a function that creates a dictionary of the first n fibonacci numbers as values paired with their indices as keys. "
   ]
  },
  {
   "cell_type": "code",
   "execution_count": 36,
   "id": "7845b5a4",
   "metadata": {},
   "outputs": [
    {
     "name": "stdout",
     "output_type": "stream",
     "text": [
      "enter number:5\n",
      "{1: 1, 2: 2, 3: 3, 4: 5, 5: 8}\n"
     ]
    }
   ],
   "source": [
    "def fibonacci():\n",
    "    list = {}\n",
    "    a = 1\n",
    "    b = 1\n",
    "    n = int(input(\"enter number:\"))\n",
    "    for i in range(n):\n",
    "        t = a+b\n",
    "        a = b\n",
    "        b = t\n",
    "        list[i+1] = a\n",
    "    return list\n",
    "result = fibonacci()\n",
    "print(result)"
   ]
  },
  {
   "cell_type": "code",
   "execution_count": null,
   "id": "61b51a56",
   "metadata": {},
   "outputs": [],
   "source": []
  }
 ],
 "metadata": {
  "kernelspec": {
   "display_name": "Python 3 (ipykernel)",
   "language": "python",
   "name": "python3"
  },
  "language_info": {
   "codemirror_mode": {
    "name": "ipython",
    "version": 3
   },
   "file_extension": ".py",
   "mimetype": "text/x-python",
   "name": "python",
   "nbconvert_exporter": "python",
   "pygments_lexer": "ipython3",
   "version": "3.11.5"
  }
 },
 "nbformat": 4,
 "nbformat_minor": 5
}
